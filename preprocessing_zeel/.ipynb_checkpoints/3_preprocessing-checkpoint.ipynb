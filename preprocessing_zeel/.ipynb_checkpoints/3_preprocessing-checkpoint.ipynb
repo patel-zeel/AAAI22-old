{
 "cells": [
  {
   "cell_type": "code",
<<<<<<< HEAD:preprocessing_zeel/.ipynb_checkpoints/3_preprocessing-checkpoint.ipynb
   "execution_count": 1,
   "id": "c344ff41",
=======
   "execution_count": 45,
   "id": "f9c3c81b",
>>>>>>> c3b6affc86e59b462d4d3884c1f83fd80b35e860:preprocessing/4_imputing_missing_data.ipynb
   "metadata": {},
   "outputs": [],
   "source": [
    "import pandas as pd\n",
    "import numpy as np\n",
    "import matplotlib.pyplot as plt\n",
    "import warnings\n",
    "from datetime import datetime\n",
    "from sklearn.model_selection import ShuffleSplit\n",
    "from sklearn.metrics import mean_squared_error\n",
    "\n",
    "warnings.filterwarnings('ignore')"
   ]
  },
  {
   "cell_type": "code",
<<<<<<< HEAD:preprocessing_zeel/.ipynb_checkpoints/3_preprocessing-checkpoint.ipynb
   "execution_count": 2,
   "id": "5153331c",
=======
   "execution_count": 18,
   "id": "909fdd65",
>>>>>>> c3b6affc86e59b462d4d3884c1f83fd80b35e860:preprocessing/4_imputing_missing_data.ipynb
   "metadata": {},
   "outputs": [
    {
     "data": {
      "text/html": [
       "<div>\n",
       "<style scoped>\n",
       "    .dataframe tbody tr th:only-of-type {\n",
       "        vertical-align: middle;\n",
       "    }\n",
       "\n",
       "    .dataframe tbody tr th {\n",
       "        vertical-align: top;\n",
       "    }\n",
       "\n",
       "    .dataframe thead th {\n",
       "        text-align: right;\n",
       "    }\n",
       "</style>\n",
       "<table border=\"1\" class=\"dataframe\">\n",
       "  <thead>\n",
       "    <tr style=\"text-align: right;\">\n",
       "      <th></th>\n",
       "      <th>time</th>\n",
       "      <th>station_id</th>\n",
       "      <th>PM25_Concentration</th>\n",
       "      <th>PM10_Concentration</th>\n",
       "      <th>NO2_Concentration</th>\n",
       "      <th>CO_Concentration</th>\n",
       "      <th>O3_Concentration</th>\n",
       "      <th>SO2_Concentration</th>\n",
<<<<<<< HEAD:preprocessing_zeel/.ipynb_checkpoints/3_preprocessing-checkpoint.ipynb
       "      <th>weather</th>\n",
       "      <th>temperature</th>\n",
       "      <th>pressure</th>\n",
       "      <th>humidity</th>\n",
       "      <th>wind_speed</th>\n",
       "      <th>wind_direction</th>\n",
=======
>>>>>>> c3b6affc86e59b462d4d3884c1f83fd80b35e860:preprocessing/4_imputing_missing_data.ipynb
       "    </tr>\n",
       "  </thead>\n",
       "  <tbody>\n",
       "    <tr>\n",
       "      <th>0</th>\n",
       "      <td>2014-05-01 00:00:00</td>\n",
       "      <td>1001</td>\n",
       "      <td>138.0</td>\n",
       "      <td>159.4</td>\n",
       "      <td>56.3</td>\n",
       "      <td>0.9</td>\n",
       "      <td>50.8</td>\n",
       "      <td>17.2</td>\n",
<<<<<<< HEAD:preprocessing_zeel/.ipynb_checkpoints/3_preprocessing-checkpoint.ipynb
       "      <td>0.0</td>\n",
       "      <td>20.0</td>\n",
       "      <td>1004.0</td>\n",
       "      <td>56.0</td>\n",
       "      <td>7.92</td>\n",
       "      <td>13.0</td>\n",
=======
>>>>>>> c3b6affc86e59b462d4d3884c1f83fd80b35e860:preprocessing/4_imputing_missing_data.ipynb
       "    </tr>\n",
       "    <tr>\n",
       "      <th>1</th>\n",
       "      <td>2014-05-01 00:00:00</td>\n",
       "      <td>1002</td>\n",
       "      <td>89.0</td>\n",
       "      <td>132.9</td>\n",
       "      <td>30.5</td>\n",
       "      <td>0.8</td>\n",
       "      <td>96.5</td>\n",
       "      <td>7.6</td>\n",
<<<<<<< HEAD:preprocessing_zeel/.ipynb_checkpoints/3_preprocessing-checkpoint.ipynb
       "      <td>0.0</td>\n",
       "      <td>20.0</td>\n",
       "      <td>1004.0</td>\n",
       "      <td>56.0</td>\n",
       "      <td>7.92</td>\n",
       "      <td>13.0</td>\n",
=======
>>>>>>> c3b6affc86e59b462d4d3884c1f83fd80b35e860:preprocessing/4_imputing_missing_data.ipynb
       "    </tr>\n",
       "  </tbody>\n",
       "</table>\n",
       "</div>"
      ],
      "text/plain": [
       "                  time  station_id  PM25_Concentration  PM10_Concentration  \\\n",
       "0  2014-05-01 00:00:00        1001               138.0               159.4   \n",
       "1  2014-05-01 00:00:00        1002                89.0               132.9   \n",
       "\n",
<<<<<<< HEAD:preprocessing_zeel/.ipynb_checkpoints/3_preprocessing-checkpoint.ipynb
       "   NO2_Concentration  CO_Concentration  O3_Concentration  SO2_Concentration  \\\n",
       "0               56.3               0.9              50.8               17.2   \n",
       "1               30.5               0.8              96.5                7.6   \n",
       "\n",
       "   weather  temperature  pressure  humidity  wind_speed  wind_direction  \n",
       "0      0.0         20.0    1004.0      56.0        7.92            13.0  \n",
       "1      0.0         20.0    1004.0      56.0        7.92            13.0  "
      ]
     },
     "execution_count": 2,
=======
       "   NO2_Concentration  CO_Concentration  O3_Concentration  SO2_Concentration  \n",
       "0               56.3               0.9              50.8               17.2  \n",
       "1               30.5               0.8              96.5                7.6  "
      ]
     },
     "execution_count": 18,
>>>>>>> c3b6affc86e59b462d4d3884c1f83fd80b35e860:preprocessing/4_imputing_missing_data.ipynb
     "metadata": {},
     "output_type": "execute_result"
    }
   ],
   "source": [
<<<<<<< HEAD:preprocessing_zeel/.ipynb_checkpoints/3_preprocessing-checkpoint.ipynb
    "beijing_aq_plus_met = pd.read_csv('tmp_beijing_aq_plus_met.csv.gz')\n",
    "beijing_aq_plus_met.head(2)"
=======
    "beijing_aq = pd.read_csv('beijing_aq_preprocessed.csv.gz')\n",
    "beijing_aq.head(2)"
>>>>>>> c3b6affc86e59b462d4d3884c1f83fd80b35e860:preprocessing/4_imputing_missing_data.ipynb
   ]
  },
  {
   "cell_type": "markdown",
   "id": "0bea57f1",
   "metadata": {},
   "source": [
    "### Drop pressure because of too much missing data"
   ]
  },
  {
   "cell_type": "code",
<<<<<<< HEAD:preprocessing_zeel/.ipynb_checkpoints/3_preprocessing-checkpoint.ipynb
   "execution_count": 3,
   "id": "9cde1df4",
=======
   "execution_count": 19,
   "id": "6d23fdcd",
>>>>>>> c3b6affc86e59b462d4d3884c1f83fd80b35e860:preprocessing/4_imputing_missing_data.ipynb
   "metadata": {},
   "outputs": [
    {
     "data": {
      "text/html": [
       "<div>\n",
       "<style scoped>\n",
       "    .dataframe tbody tr th:only-of-type {\n",
       "        vertical-align: middle;\n",
       "    }\n",
       "\n",
       "    .dataframe tbody tr th {\n",
       "        vertical-align: top;\n",
       "    }\n",
       "\n",
       "    .dataframe thead th {\n",
       "        text-align: right;\n",
       "    }\n",
       "</style>\n",
       "<table border=\"1\" class=\"dataframe\">\n",
       "  <thead>\n",
       "    <tr style=\"text-align: right;\">\n",
       "      <th></th>\n",
       "      <th>time</th>\n",
       "      <th>station_id</th>\n",
       "      <th>weather</th>\n",
       "      <th>temperature</th>\n",
       "      <th>humidity</th>\n",
       "      <th>wind_speed</th>\n",
       "      <th>wind_direction</th>\n",
       "    </tr>\n",
       "  </thead>\n",
       "  <tbody>\n",
       "    <tr>\n",
       "      <th>0</th>\n",
       "      <td>2014-05-01 00:00:00</td>\n",
       "      <td>1001</td>\n",
       "      <td>0.0</td>\n",
       "      <td>20.0</td>\n",
       "      <td>56.0</td>\n",
       "      <td>7.92</td>\n",
       "      <td>13.0</td>\n",
       "    </tr>\n",
       "    <tr>\n",
       "      <th>1</th>\n",
       "      <td>2014-05-01 00:00:00</td>\n",
       "      <td>1002</td>\n",
       "      <td>0.0</td>\n",
       "      <td>20.0</td>\n",
       "      <td>56.0</td>\n",
       "      <td>7.92</td>\n",
       "      <td>13.0</td>\n",
       "    </tr>\n",
       "  </tbody>\n",
       "</table>\n",
       "</div>"
      ],
      "text/plain": [
<<<<<<< HEAD:preprocessing_zeel/.ipynb_checkpoints/3_preprocessing-checkpoint.ipynb
       "                  time  station_id  PM25_Concentration  PM10_Concentration  \\\n",
       "0  2014-05-01 00:00:00        1001               138.0               159.4   \n",
       "1  2014-05-01 00:00:00        1002                89.0               132.9   \n",
=======
       "                  time  station_id  weather  temperature  humidity  \\\n",
       "0  2014-05-01 00:00:00        1001      0.0         20.0      56.0   \n",
       "1  2014-05-01 00:00:00        1002      0.0         20.0      56.0   \n",
>>>>>>> c3b6affc86e59b462d4d3884c1f83fd80b35e860:preprocessing/4_imputing_missing_data.ipynb
       "\n",
       "   wind_speed  wind_direction  \n",
       "0        7.92            13.0  \n",
       "1        7.92            13.0  "
      ]
     },
<<<<<<< HEAD:preprocessing_zeel/.ipynb_checkpoints/3_preprocessing-checkpoint.ipynb
     "execution_count": 3,
=======
     "execution_count": 19,
>>>>>>> c3b6affc86e59b462d4d3884c1f83fd80b35e860:preprocessing/4_imputing_missing_data.ipynb
     "metadata": {},
     "output_type": "execute_result"
    }
   ],
   "source": [
<<<<<<< HEAD:preprocessing_zeel/.ipynb_checkpoints/3_preprocessing-checkpoint.ipynb
    "beijing_aq_plus_met2 = beijing_aq_plus_met.drop(columns=['pressure'])\n",
    "beijing_aq_plus_met2.head(2)"
=======
    "beijing_met = pd.read_csv('beijing_met_preprocessed.csv.gz')\n",
    "beijing_met.head(2)"
   ]
  },
  {
   "cell_type": "code",
   "execution_count": 7,
   "id": "ae283fc0",
   "metadata": {},
   "outputs": [],
   "source": [
    "# beijing_met['time'] = pd.to_datetime(beijing_met['time'])\n",
    "# beijing_aq['time'] = pd.to_datetime(beijing_aq['time'])\n",
    "# beijing_aq_plus_met2 = beijing_aq_plus_met.sort_values(by=['time', 'station_id'])\n",
    "# beijing_aq_plus_met2.head(2)"
>>>>>>> c3b6affc86e59b462d4d3884c1f83fd80b35e860:preprocessing/4_imputing_missing_data.ipynb
   ]
  },
  {
   "cell_type": "markdown",
   "id": "dbc63b56",
   "metadata": {},
   "source": [
    "### Drop five stations with highest amount of missing data"
   ]
  },
  {
   "cell_type": "code",
<<<<<<< HEAD:preprocessing_zeel/.ipynb_checkpoints/3_preprocessing-checkpoint.ipynb
   "execution_count": 4,
   "id": "4dcc5126",
=======
   "execution_count": 59,
   "id": "0c230350",
>>>>>>> c3b6affc86e59b462d4d3884c1f83fd80b35e860:preprocessing/4_imputing_missing_data.ipynb
   "metadata": {},
   "outputs": [
    {
     "name": "stdout",
     "output_type": "stream",
     "text": [
      "1001 0.7998858447488585\n",
      "1002 0.7998858447488585\n",
      "1003 0.8480593607305936\n",
      "1004 0.8469178082191781\n",
      "1005 0.8614155251141552\n",
      "1006 0.7998858447488585\n",
      "1007 0.8204337899543379\n",
      "1008 0.7998858447488585\n",
      "1009 0.34178082191780823\n",
      "1010 0.8469178082191781\n",
      "1011 0.8469178082191781\n",
      "1012 0.8204337899543379\n",
      "1013 0.34178082191780823\n",
      "1014 0.8204337899543379\n",
      "1015 0.34178082191780823\n",
      "1016 0.8469178082191781\n",
      "1017 0.8634703196347032\n",
      "1018 0.8634703196347032\n",
      "1019 0.8410958904109589\n",
      "1020 0.34178082191780823\n",
      "1021 0.34178082191780823\n",
      "1022 0.8204337899543379\n",
      "1023 0.8389269406392694\n",
      "1024 0.8430365296803652\n",
      "1025 0.8638127853881279\n",
      "1026 0.8598173515981735\n",
      "1027 0.8289954337899543\n",
      "1028 0.8589041095890411\n",
      "1029 0.8539954337899544\n",
      "1030 0.8430365296803652\n",
      "1031 0.8539954337899544\n",
      "1032 0.8589041095890411\n",
      "1033 0.8598173515981735\n",
      "1034 0.8410958904109589\n",
      "1035 0.8634703196347032\n",
      "1036 0.8614155251141552\n"
     ]
    }
   ],
   "source": [
<<<<<<< HEAD:preprocessing_zeel/.ipynb_checkpoints/3_preprocessing-checkpoint.ipynb
    "for station in beijing_aq_plus_met2.station_id.unique():\n",
    "    tmp_df = beijing_aq_plus_met2[beijing_aq_plus_met2.station_id==station]\n",
    "    print(station, tmp_df['temperature'].dropna().shape[0]/tmp_df['temperature'].shape[0])"
   ]
  },
  {
   "cell_type": "markdown",
   "id": "52498787",
   "metadata": {},
   "source": [
    "#### Missing data Station IDs: 1009, 1013, 1015, 1020, 1021"
=======
    "# for station in beijing_aq_plus_met2.station_id.unique():\n",
    "#     tmp_df = beijing_aq_plus_met2[beijing_aq_plus_met2.station_id==station]\n",
    "#     assert tmp_df.shape == (8760, 13)\n",
    "methods = ['linear','slinear','quadratic','cubic','spline','akima']"
>>>>>>> c3b6affc86e59b462d4d3884c1f83fd80b35e860:preprocessing/4_imputing_missing_data.ipynb
   ]
  },
  {
   "cell_type": "code",
<<<<<<< HEAD:preprocessing_zeel/.ipynb_checkpoints/3_preprocessing-checkpoint.ipynb
   "execution_count": 5,
   "id": "76aeb345",
   "metadata": {},
   "outputs": [
    {
     "data": {
      "text/plain": [
       "((36,), (31,))"
      ]
     },
     "execution_count": 5,
     "metadata": {},
     "output_type": "execute_result"
    }
   ],
   "source": [
    "beijing_aq_plus_met3 = beijing_aq_plus_met2[~beijing_aq_plus_met2.station_id.isin([1009, 1013, 1015, 1020, 1021])]\n",
    "beijing_aq_plus_met2.station_id.unique().shape, beijing_aq_plus_met3.station_id.unique().shape"
   ]
  },
  {
   "cell_type": "code",
   "execution_count": 6,
   "id": "ed71e3fd",
=======
   "execution_count": 72,
   "id": "e1c9bffc",
>>>>>>> c3b6affc86e59b462d4d3884c1f83fd80b35e860:preprocessing/4_imputing_missing_data.ipynb
   "metadata": {},
   "outputs": [
    {
     "ename": "ValueError",
     "evalue": "Input contains NaN, infinity or a value too large for dtype('float64').",
     "output_type": "error",
     "traceback": [
      "\u001b[1;31m---------------------------------------------------------------------------\u001b[0m",
      "\u001b[1;31mValueError\u001b[0m                                Traceback (most recent call last)",
      "\u001b[1;32m<ipython-input-72-85979159384d>\u001b[0m in \u001b[0;36m<module>\u001b[1;34m\u001b[0m\n\u001b[0;32m     44\u001b[0m \u001b[1;31m#             mse_cubic = mean_squared_error(xtest,interpolate_cubic.iloc[test_indices,0])\u001b[0m\u001b[1;33m\u001b[0m\u001b[1;33m\u001b[0m\u001b[1;33m\u001b[0m\u001b[0m\n\u001b[0;32m     45\u001b[0m             \u001b[0mmse_spline\u001b[0m \u001b[1;33m=\u001b[0m \u001b[0mmean_squared_error\u001b[0m\u001b[1;33m(\u001b[0m\u001b[0mxtest\u001b[0m\u001b[1;33m,\u001b[0m\u001b[0minterpolate_spline\u001b[0m\u001b[1;33m.\u001b[0m\u001b[0miloc\u001b[0m\u001b[1;33m[\u001b[0m\u001b[0mtest_indices\u001b[0m\u001b[1;33m,\u001b[0m\u001b[1;36m0\u001b[0m\u001b[1;33m]\u001b[0m\u001b[1;33m)\u001b[0m\u001b[1;33m\u001b[0m\u001b[1;33m\u001b[0m\u001b[0m\n\u001b[1;32m---> 46\u001b[1;33m             \u001b[0mmse_akima\u001b[0m \u001b[1;33m=\u001b[0m \u001b[0mmean_squared_error\u001b[0m\u001b[1;33m(\u001b[0m\u001b[0mxtest\u001b[0m\u001b[1;33m,\u001b[0m\u001b[0minterpolate_akima\u001b[0m\u001b[1;33m.\u001b[0m\u001b[0miloc\u001b[0m\u001b[1;33m[\u001b[0m\u001b[0mtest_indices\u001b[0m\u001b[1;33m,\u001b[0m\u001b[1;36m0\u001b[0m\u001b[1;33m]\u001b[0m\u001b[1;33m)\u001b[0m\u001b[1;33m\u001b[0m\u001b[1;33m\u001b[0m\u001b[0m\n\u001b[0m\u001b[0;32m     47\u001b[0m \u001b[1;33m\u001b[0m\u001b[0m\n\u001b[0;32m     48\u001b[0m             \u001b[0mlinear_loss\u001b[0m\u001b[1;33m.\u001b[0m\u001b[0mappend\u001b[0m\u001b[1;33m(\u001b[0m\u001b[0mmse_linear\u001b[0m\u001b[1;33m)\u001b[0m\u001b[1;33m,\u001b[0m\u001b[0mslinear_loss\u001b[0m\u001b[1;33m.\u001b[0m\u001b[0mappend\u001b[0m\u001b[1;33m(\u001b[0m\u001b[0mmse_slinear\u001b[0m\u001b[1;33m)\u001b[0m\u001b[1;33m,\u001b[0m\u001b[0mquadratic_loss\u001b[0m\u001b[1;33m.\u001b[0m\u001b[0mappend\u001b[0m\u001b[1;33m(\u001b[0m\u001b[0mmse_quadratic\u001b[0m\u001b[1;33m)\u001b[0m\u001b[1;33m,\u001b[0m\u001b[0mcubic_loss\u001b[0m\u001b[1;33m.\u001b[0m\u001b[0mappend\u001b[0m\u001b[1;33m(\u001b[0m\u001b[0mmse_cubic\u001b[0m\u001b[1;33m)\u001b[0m\u001b[1;33m\u001b[0m\u001b[1;33m\u001b[0m\u001b[0m\n",
      "\u001b[1;32m~\\AppData\\Local\\Packages\\PythonSoftwareFoundation.Python.3.8_qbz5n2kfra8p0\\LocalCache\\local-packages\\Python38\\site-packages\\sklearn\\utils\\validation.py\u001b[0m in \u001b[0;36minner_f\u001b[1;34m(*args, **kwargs)\u001b[0m\n\u001b[0;32m     61\u001b[0m             \u001b[0mextra_args\u001b[0m \u001b[1;33m=\u001b[0m \u001b[0mlen\u001b[0m\u001b[1;33m(\u001b[0m\u001b[0margs\u001b[0m\u001b[1;33m)\u001b[0m \u001b[1;33m-\u001b[0m \u001b[0mlen\u001b[0m\u001b[1;33m(\u001b[0m\u001b[0mall_args\u001b[0m\u001b[1;33m)\u001b[0m\u001b[1;33m\u001b[0m\u001b[1;33m\u001b[0m\u001b[0m\n\u001b[0;32m     62\u001b[0m             \u001b[1;32mif\u001b[0m \u001b[0mextra_args\u001b[0m \u001b[1;33m<=\u001b[0m \u001b[1;36m0\u001b[0m\u001b[1;33m:\u001b[0m\u001b[1;33m\u001b[0m\u001b[1;33m\u001b[0m\u001b[0m\n\u001b[1;32m---> 63\u001b[1;33m                 \u001b[1;32mreturn\u001b[0m \u001b[0mf\u001b[0m\u001b[1;33m(\u001b[0m\u001b[1;33m*\u001b[0m\u001b[0margs\u001b[0m\u001b[1;33m,\u001b[0m \u001b[1;33m**\u001b[0m\u001b[0mkwargs\u001b[0m\u001b[1;33m)\u001b[0m\u001b[1;33m\u001b[0m\u001b[1;33m\u001b[0m\u001b[0m\n\u001b[0m\u001b[0;32m     64\u001b[0m \u001b[1;33m\u001b[0m\u001b[0m\n\u001b[0;32m     65\u001b[0m             \u001b[1;31m# extra_args > 0\u001b[0m\u001b[1;33m\u001b[0m\u001b[1;33m\u001b[0m\u001b[1;33m\u001b[0m\u001b[0m\n",
      "\u001b[1;32m~\\AppData\\Local\\Packages\\PythonSoftwareFoundation.Python.3.8_qbz5n2kfra8p0\\LocalCache\\local-packages\\Python38\\site-packages\\sklearn\\metrics\\_regression.py\u001b[0m in \u001b[0;36mmean_squared_error\u001b[1;34m(y_true, y_pred, sample_weight, multioutput, squared)\u001b[0m\n\u001b[0;32m    333\u001b[0m     \u001b[1;36m0.825\u001b[0m\u001b[1;33m...\u001b[0m\u001b[1;33m\u001b[0m\u001b[1;33m\u001b[0m\u001b[0m\n\u001b[0;32m    334\u001b[0m     \"\"\"\n\u001b[1;32m--> 335\u001b[1;33m     y_type, y_true, y_pred, multioutput = _check_reg_targets(\n\u001b[0m\u001b[0;32m    336\u001b[0m         y_true, y_pred, multioutput)\n\u001b[0;32m    337\u001b[0m     \u001b[0mcheck_consistent_length\u001b[0m\u001b[1;33m(\u001b[0m\u001b[0my_true\u001b[0m\u001b[1;33m,\u001b[0m \u001b[0my_pred\u001b[0m\u001b[1;33m,\u001b[0m \u001b[0msample_weight\u001b[0m\u001b[1;33m)\u001b[0m\u001b[1;33m\u001b[0m\u001b[1;33m\u001b[0m\u001b[0m\n",
      "\u001b[1;32m~\\AppData\\Local\\Packages\\PythonSoftwareFoundation.Python.3.8_qbz5n2kfra8p0\\LocalCache\\local-packages\\Python38\\site-packages\\sklearn\\metrics\\_regression.py\u001b[0m in \u001b[0;36m_check_reg_targets\u001b[1;34m(y_true, y_pred, multioutput, dtype)\u001b[0m\n\u001b[0;32m     88\u001b[0m     \u001b[0mcheck_consistent_length\u001b[0m\u001b[1;33m(\u001b[0m\u001b[0my_true\u001b[0m\u001b[1;33m,\u001b[0m \u001b[0my_pred\u001b[0m\u001b[1;33m)\u001b[0m\u001b[1;33m\u001b[0m\u001b[1;33m\u001b[0m\u001b[0m\n\u001b[0;32m     89\u001b[0m     \u001b[0my_true\u001b[0m \u001b[1;33m=\u001b[0m \u001b[0mcheck_array\u001b[0m\u001b[1;33m(\u001b[0m\u001b[0my_true\u001b[0m\u001b[1;33m,\u001b[0m \u001b[0mensure_2d\u001b[0m\u001b[1;33m=\u001b[0m\u001b[1;32mFalse\u001b[0m\u001b[1;33m,\u001b[0m \u001b[0mdtype\u001b[0m\u001b[1;33m=\u001b[0m\u001b[0mdtype\u001b[0m\u001b[1;33m)\u001b[0m\u001b[1;33m\u001b[0m\u001b[1;33m\u001b[0m\u001b[0m\n\u001b[1;32m---> 90\u001b[1;33m     \u001b[0my_pred\u001b[0m \u001b[1;33m=\u001b[0m \u001b[0mcheck_array\u001b[0m\u001b[1;33m(\u001b[0m\u001b[0my_pred\u001b[0m\u001b[1;33m,\u001b[0m \u001b[0mensure_2d\u001b[0m\u001b[1;33m=\u001b[0m\u001b[1;32mFalse\u001b[0m\u001b[1;33m,\u001b[0m \u001b[0mdtype\u001b[0m\u001b[1;33m=\u001b[0m\u001b[0mdtype\u001b[0m\u001b[1;33m)\u001b[0m\u001b[1;33m\u001b[0m\u001b[1;33m\u001b[0m\u001b[0m\n\u001b[0m\u001b[0;32m     91\u001b[0m \u001b[1;33m\u001b[0m\u001b[0m\n\u001b[0;32m     92\u001b[0m     \u001b[1;32mif\u001b[0m \u001b[0my_true\u001b[0m\u001b[1;33m.\u001b[0m\u001b[0mndim\u001b[0m \u001b[1;33m==\u001b[0m \u001b[1;36m1\u001b[0m\u001b[1;33m:\u001b[0m\u001b[1;33m\u001b[0m\u001b[1;33m\u001b[0m\u001b[0m\n",
      "\u001b[1;32m~\\AppData\\Local\\Packages\\PythonSoftwareFoundation.Python.3.8_qbz5n2kfra8p0\\LocalCache\\local-packages\\Python38\\site-packages\\sklearn\\utils\\validation.py\u001b[0m in \u001b[0;36minner_f\u001b[1;34m(*args, **kwargs)\u001b[0m\n\u001b[0;32m     61\u001b[0m             \u001b[0mextra_args\u001b[0m \u001b[1;33m=\u001b[0m \u001b[0mlen\u001b[0m\u001b[1;33m(\u001b[0m\u001b[0margs\u001b[0m\u001b[1;33m)\u001b[0m \u001b[1;33m-\u001b[0m \u001b[0mlen\u001b[0m\u001b[1;33m(\u001b[0m\u001b[0mall_args\u001b[0m\u001b[1;33m)\u001b[0m\u001b[1;33m\u001b[0m\u001b[1;33m\u001b[0m\u001b[0m\n\u001b[0;32m     62\u001b[0m             \u001b[1;32mif\u001b[0m \u001b[0mextra_args\u001b[0m \u001b[1;33m<=\u001b[0m \u001b[1;36m0\u001b[0m\u001b[1;33m:\u001b[0m\u001b[1;33m\u001b[0m\u001b[1;33m\u001b[0m\u001b[0m\n\u001b[1;32m---> 63\u001b[1;33m                 \u001b[1;32mreturn\u001b[0m \u001b[0mf\u001b[0m\u001b[1;33m(\u001b[0m\u001b[1;33m*\u001b[0m\u001b[0margs\u001b[0m\u001b[1;33m,\u001b[0m \u001b[1;33m**\u001b[0m\u001b[0mkwargs\u001b[0m\u001b[1;33m)\u001b[0m\u001b[1;33m\u001b[0m\u001b[1;33m\u001b[0m\u001b[0m\n\u001b[0m\u001b[0;32m     64\u001b[0m \u001b[1;33m\u001b[0m\u001b[0m\n\u001b[0;32m     65\u001b[0m             \u001b[1;31m# extra_args > 0\u001b[0m\u001b[1;33m\u001b[0m\u001b[1;33m\u001b[0m\u001b[1;33m\u001b[0m\u001b[0m\n",
      "\u001b[1;32m~\\AppData\\Local\\Packages\\PythonSoftwareFoundation.Python.3.8_qbz5n2kfra8p0\\LocalCache\\local-packages\\Python38\\site-packages\\sklearn\\utils\\validation.py\u001b[0m in \u001b[0;36mcheck_array\u001b[1;34m(array, accept_sparse, accept_large_sparse, dtype, order, copy, force_all_finite, ensure_2d, allow_nd, ensure_min_samples, ensure_min_features, estimator)\u001b[0m\n\u001b[0;32m    661\u001b[0m \u001b[1;33m\u001b[0m\u001b[0m\n\u001b[0;32m    662\u001b[0m         \u001b[1;32mif\u001b[0m \u001b[0mforce_all_finite\u001b[0m\u001b[1;33m:\u001b[0m\u001b[1;33m\u001b[0m\u001b[1;33m\u001b[0m\u001b[0m\n\u001b[1;32m--> 663\u001b[1;33m             _assert_all_finite(array,\n\u001b[0m\u001b[0;32m    664\u001b[0m                                allow_nan=force_all_finite == 'allow-nan')\n\u001b[0;32m    665\u001b[0m \u001b[1;33m\u001b[0m\u001b[0m\n",
      "\u001b[1;32m~\\AppData\\Local\\Packages\\PythonSoftwareFoundation.Python.3.8_qbz5n2kfra8p0\\LocalCache\\local-packages\\Python38\\site-packages\\sklearn\\utils\\validation.py\u001b[0m in \u001b[0;36m_assert_all_finite\u001b[1;34m(X, allow_nan, msg_dtype)\u001b[0m\n\u001b[0;32m    101\u001b[0m                 not allow_nan and not np.isfinite(X).all()):\n\u001b[0;32m    102\u001b[0m             \u001b[0mtype_err\u001b[0m \u001b[1;33m=\u001b[0m \u001b[1;34m'infinity'\u001b[0m \u001b[1;32mif\u001b[0m \u001b[0mallow_nan\u001b[0m \u001b[1;32melse\u001b[0m \u001b[1;34m'NaN, infinity'\u001b[0m\u001b[1;33m\u001b[0m\u001b[1;33m\u001b[0m\u001b[0m\n\u001b[1;32m--> 103\u001b[1;33m             raise ValueError(\n\u001b[0m\u001b[0;32m    104\u001b[0m                     \u001b[0mmsg_err\u001b[0m\u001b[1;33m.\u001b[0m\u001b[0mformat\u001b[0m\u001b[1;33m\u001b[0m\u001b[1;33m\u001b[0m\u001b[0m\n\u001b[0;32m    105\u001b[0m                     (type_err,\n",
      "\u001b[1;31mValueError\u001b[0m: Input contains NaN, infinity or a value too large for dtype('float64')."
     ]
    }
   ],
   "source": [
    "for cols in ['temperature','humidity','wind_speed']:\n",
    "    \n",
    "    alinear_loss,aslinear_loss,aquadratic_loss,acubic_loss,aspline_loss,aakima_loss = [],[],[],[],[],[]\n",
    "    \n",
    "    for station in beijing_met.station_id.unique():\n",
    "        \n",
    "        linear_loss,slinear_loss,quadratic_loss,cubic_loss,spline_loss,akima_loss = [],[],[],[],[],[]\n",
    "        tmp_df = beijing_met[beijing_met.station_id==station].reset_index(drop=True)\n",
    "        assert tmp_df.shape == (8760, len(beijing_met.columns))\n",
    "        \n",
    "        tmp_df = tmp_df.iloc[:,[beijing_met.columns.get_loc('time'),beijing_met.columns.get_loc(cols)]]\n",
    "        \n",
    "        dates = pd.to_datetime([datetime.fromisoformat(tmp_df.iloc[i,tmp_df.columns.get_loc('time')]) for i in range(len(tmp_df))])\n",
    "        time_differences = ((dates - dates[0]).total_seconds() // 3600)\n",
    "        tmp_df['delta_t'] = time_differences\n",
    "        tmp_df = tmp_df.drop(columns='time')\n",
    "        \n",
    "        tmp_df_notmissing = tmp_df.dropna(subset=[cols]).reset_index(drop=True)\n",
    "        indices = ShuffleSplit(n_splits=5, test_size=.2, random_state=0).split(tmp_df_notmissing)\n",
    "        \n",
    "        for i in indices:\n",
    "            train_indices = list(i[0])\n",
    "            test_indices = list(i[1])\n",
    "            train_indices.sort(),test_indices.sort()\n",
    "   \n",
    "            xtest = tmp_df_notmissing.iloc[test_indices,:]\n",
    "            xtest = xtest.set_index('delta_t')\n",
    "            tmp_df_notmissing.iloc[test_indices,tmp_df_notmissing.columns.get_loc(cols)] = np.nan\n",
    "            xtrain = tmp_df_notmissing\n",
    "            xtrain = xtrain.set_index('delta_t')\n",
    "            \n",
    "            interpolate_linear = xtrain.interpolate(method='linear')\n",
    "            interpolate_slinear = xtrain.interpolate(method='slinear', limit=10, limit_direction='both')\n",
    "            interpolate_quadratic = xtrain.interpolate(method='quadratic')\n",
    "            interpolate_cubic = xtrain.interpolate(method='cubic')\n",
    "            interpolate_spline = xtrain.interpolate(method='spline',order=3)\n",
    "            interpolate_akima = xtrain.interpolate(method='akima')\n",
    "\n",
    "            mse_linear = mean_squared_error(xtest,interpolate_linear.iloc[test_indices,0])\n",
    "            mse_slinear = mean_squared_error(xtest,interpolate_slinear.iloc[test_indices,0])\n",
    "            mse_quadratic = mean_squared_error(xtest,interpolate_quadratic.iloc[test_indices,0])\n",
    "            mse_cubic = mean_squared_error(xtest,interpolate_cubic.iloc[test_indices,0])\n",
    "            mse_spline = mean_squared_error(xtest,interpolate_spline.iloc[test_indices,0])\n",
    "            mse_akima = mean_squared_error(xtest,interpolate_akima.iloc[test_indices,0])\n",
    "            \n",
    "            linear_loss.append(mse_linear),slinear_loss.append(mse_slinear),quadratic_loss.append(mse_quadratic),cubic_loss.append(mse_cubic)\n",
    "            spline_loss.append(mse_spline),akima_loss.append(mse_akima)\n",
    "            \n",
    "        alinear_loss.append(np.mean(mse_linear)),aslinear_loss.append(np.mean(mse_slinear)),aquadratic_loss.append(np.mean(mse_quadratic)),acubic_loss.append(np.mean(mse_cubic))\n",
    "        aspline_loss.append(np.mean(mse_spline)),aakima_loss.append(np.mean(mse_akima))\n",
    "        \n",
    "    method = methods[np.argmin(np.mean(alinear_loss),np.mean(alinear_loss),np.mean(aslinear_loss),np.mean(aquadratic_loss),np.mean(acubic_loss),np.mean(aspline_loss),np.min(aakima_loss))]\n",
    "    print(method)"
   ]
  },
  {
   "cell_type": "code",
   "execution_count": null,
   "id": "76b761e2",
   "metadata": {},
   "outputs": [],
   "source": [
    "beijing_aq_plus_met3.to_csv('tmp_beijing_aq_plus_met_preprocessed.csv.gz', index=None)"
   ]
  }
 ],
 "metadata": {
  "kernelspec": {
   "display_name": "Python 3",
   "language": "python",
   "name": "python3"
  },
  "language_info": {
   "codemirror_mode": {
    "name": "ipython",
    "version": 3
   },
   "file_extension": ".py",
   "mimetype": "text/x-python",
   "name": "python",
   "nbconvert_exporter": "python",
   "pygments_lexer": "ipython3",
   "version": "3.8.10"
  }
 },
 "nbformat": 4,
 "nbformat_minor": 5
}
