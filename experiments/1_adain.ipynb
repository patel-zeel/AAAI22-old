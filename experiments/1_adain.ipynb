{
 "cells": [
  {
   "cell_type": "code",
   "execution_count": 1,
   "id": "68fd9c2d",
   "metadata": {},
   "outputs": [],
   "source": [
    "import pandas as pd\n",
    "import numpy as np\n",
    "import sys\n",
    "import matplotlib.pyplot as plt\n",
    "from sklearn.model_selection import KFold\n",
    "from sklearn.metrics import mean_squared_error\n",
    "import warnings\n",
    "from IPython.display import clear_output\n",
    "from multiprocessing import Pool\n",
    "from time import time\n",
    "warnings.filterwarnings('ignore')\n",
    "\n",
    "from model import ADAIN\n",
    "import tensorflow as tf"
   ]
  },
  {
   "cell_type": "markdown",
   "id": "f9e35e31",
   "metadata": {},
   "source": [
    "### Load fold wise"
   ]
  },
  {
   "cell_type": "code",
   "execution_count": 2,
   "id": "6dffa237",
   "metadata": {},
   "outputs": [],
   "source": [
    "fold = 0\n",
    "station_metaq_trn = np.load('../data/adain/fold_'+str(fold)+'_station_metaq_data_train.npz')['arr_0']"
   ]
  },
  {
   "cell_type": "code",
   "execution_count": 3,
   "id": "3669cd2a",
   "metadata": {},
   "outputs": [],
   "source": [
    "station_dist_trn = np.load('../data/adain/fold_'+str(fold)+'_station_dist_data_train.npz')['arr_0']"
   ]
  },
  {
   "cell_type": "code",
   "execution_count": 4,
   "id": "d205a7e7",
   "metadata": {},
   "outputs": [],
   "source": [
    "local_met_trn = np.load('../data/adain/fold_'+str(fold)+'_local_met_data_train.npz')['arr_0']"
   ]
  },
  {
   "cell_type": "code",
   "execution_count": 5,
   "id": "b25ac404",
   "metadata": {},
   "outputs": [],
   "source": [
    "local_aq_trn = np.load('../data/adain/fold_'+str(fold)+'_local_aq_data_train.npz')['arr_0']"
   ]
  },
  {
   "cell_type": "code",
   "execution_count": 6,
   "id": "c71158ae",
   "metadata": {},
   "outputs": [
    {
     "data": {
      "text/plain": [
       "((174740, 19, 30, 24), (174740, 19, 2), (174740, 29, 24), (174740, 1))"
      ]
     },
     "execution_count": 6,
     "metadata": {},
     "output_type": "execute_result"
    }
   ],
   "source": [
    "station_metaq_trn.shape, station_dist_trn.shape, local_met_trn.shape, local_aq_trn.shape"
   ]
  },
  {
   "cell_type": "markdown",
   "id": "069e078f",
   "metadata": {},
   "source": [
    "### Training"
   ]
  },
  {
   "cell_type": "code",
   "execution_count": 7,
   "id": "1e76d8bc",
   "metadata": {},
   "outputs": [],
   "source": [
    "met = 29\n",
    "dist = 2\n",
    "aq = 1\n",
    "time_window = 24\n",
    "dropout = 0.5\n",
    "\n",
    "model = ADAIN(met, dist, aq, time_window, dropout)\n",
    "model.compile(loss='mse', \n",
    "              optimizer='adam', \n",
    "              metrics=[tf.keras.metrics.RootMeanSquaredError()])"
   ]
  },
  {
   "cell_type": "code",
   "execution_count": null,
   "id": "e4281f60",
   "metadata": {},
   "outputs": [
    {
     "name": "stdout",
     "output_type": "stream",
     "text": [
      "Epoch 1/5\n",
      "154/154 [==============================] - 374s 2s/step - loss: 9514.9551 - root_mean_squared_error: 97.5446 - val_loss: 2540.7498 - val_root_mean_squared_error: 50.4058\n",
      "Epoch 2/5\n",
      "154/154 [==============================] - 376s 2s/step - loss: 6534.5503 - root_mean_squared_error: 80.8366 - val_loss: 1780.0360 - val_root_mean_squared_error: 42.1905\n",
      "Epoch 3/5\n",
      "129/154 [========================>.....] - ETA: 58s - loss: 5068.3682 - root_mean_squared_error: 71.1925 "
     ]
    }
   ],
   "source": [
    "model.fit(x=[local_met_trn, station_dist_trn, station_metaq_trn], \n",
    "          y=local_aq_trn, batch_size=1024, validation_split=0.1, epochs=5, \n",
    "          verbose=1, use_multiprocessing=True, workers=26)"
   ]
  }
 ],
 "metadata": {
  "kernelspec": {
   "display_name": "Python 3",
   "language": "python",
   "name": "python3"
  },
  "language_info": {
   "codemirror_mode": {
    "name": "ipython",
    "version": 3
   },
   "file_extension": ".py",
   "mimetype": "text/x-python",
   "name": "python",
   "nbconvert_exporter": "python",
   "pygments_lexer": "ipython3",
   "version": "3.8.8"
  }
 },
 "nbformat": 4,
 "nbformat_minor": 5
}
