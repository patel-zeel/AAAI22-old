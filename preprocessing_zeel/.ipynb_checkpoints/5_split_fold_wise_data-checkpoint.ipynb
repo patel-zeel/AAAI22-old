{
 "cells": [
  {
   "cell_type": "code",
   "execution_count": 1,
   "id": "8072dd3f",
   "metadata": {},
   "outputs": [],
   "source": [
    "import pandas as pd\n",
    "import numpy as np\n",
    "import matplotlib.pyplot as plt\n",
    "from sklearn.model_selection import KFold\n",
    "from sklearn.metrics import mean_squared_error\n",
    "import warnings\n",
    "from IPython.display import clear_output\n",
    "from multiprocessing import Pool\n",
    "from time import time\n",
    "warnings.filterwarnings('ignore')"
   ]
  },
  {
   "cell_type": "code",
   "execution_count": 2,
   "id": "5f8d169f",
   "metadata": {},
   "outputs": [
    {
     "data": {
      "text/html": [
       "<div>\n",
       "<style scoped>\n",
       "    .dataframe tbody tr th:only-of-type {\n",
       "        vertical-align: middle;\n",
       "    }\n",
       "\n",
       "    .dataframe tbody tr th {\n",
       "        vertical-align: top;\n",
       "    }\n",
       "\n",
       "    .dataframe thead th {\n",
       "        text-align: right;\n",
       "    }\n",
       "</style>\n",
       "<table border=\"1\" class=\"dataframe\">\n",
       "  <thead>\n",
       "    <tr style=\"text-align: right;\">\n",
       "      <th></th>\n",
       "      <th>time</th>\n",
       "      <th>station_id</th>\n",
       "      <th>longitude</th>\n",
       "      <th>latitude</th>\n",
       "      <th>PM25_Concentration</th>\n",
       "      <th>temperature</th>\n",
       "      <th>humidity</th>\n",
       "      <th>wind_speed</th>\n",
       "      <th>weather</th>\n",
       "      <th>wind_direction</th>\n",
       "    </tr>\n",
       "  </thead>\n",
       "  <tbody>\n",
       "    <tr>\n",
       "      <th>0</th>\n",
       "      <td>2014-05-01 00:00:00</td>\n",
       "      <td>1001</td>\n",
       "      <td>116.173553</td>\n",
       "      <td>40.090679</td>\n",
       "      <td>138.0</td>\n",
       "      <td>20.0</td>\n",
       "      <td>56.0</td>\n",
       "      <td>7.92</td>\n",
       "      <td>0.0</td>\n",
       "      <td>13.0</td>\n",
       "    </tr>\n",
       "    <tr>\n",
       "      <th>1</th>\n",
       "      <td>2014-05-01 01:00:00</td>\n",
       "      <td>1001</td>\n",
       "      <td>116.173553</td>\n",
       "      <td>40.090679</td>\n",
       "      <td>124.0</td>\n",
       "      <td>18.0</td>\n",
       "      <td>64.0</td>\n",
       "      <td>7.56</td>\n",
       "      <td>0.0</td>\n",
       "      <td>13.0</td>\n",
       "    </tr>\n",
       "  </tbody>\n",
       "</table>\n",
       "</div>"
      ],
      "text/plain": [
       "                  time  station_id   longitude   latitude  PM25_Concentration  \\\n",
       "0  2014-05-01 00:00:00        1001  116.173553  40.090679               138.0   \n",
       "1  2014-05-01 01:00:00        1001  116.173553  40.090679               124.0   \n",
       "\n",
       "   temperature  humidity  wind_speed  weather  wind_direction  \n",
       "0         20.0      56.0        7.92      0.0            13.0  \n",
       "1         18.0      64.0        7.56      0.0            13.0  "
      ]
     },
     "execution_count": 2,
     "metadata": {},
     "output_type": "execute_result"
    }
   ],
   "source": [
    "data = pd.read_csv('../data/processed/final_data.csv.gz')\n",
    "data.head(2)"
   ]
  },
  {
   "cell_type": "code",
   "execution_count": 3,
   "id": "90d9c2ea",
   "metadata": {},
   "outputs": [
    {
     "data": {
      "text/plain": [
       "array([1001, 1002, 1003, 1004, 1005, 1006, 1007, 1008, 1010, 1011, 1012,\n",
       "       1014, 1016, 1017, 1018, 1019, 1022, 1023, 1024, 1025, 1026, 1027,\n",
       "       1028, 1029, 1030, 1031, 1032, 1033, 1034, 1035, 1036])"
      ]
     },
     "execution_count": 3,
     "metadata": {},
     "output_type": "execute_result"
    }
   ],
   "source": [
    "all_stations = data.station_id.unique()\n",
    "all_stations"
   ]
  },
  {
   "cell_type": "code",
   "execution_count": 4,
   "id": "8de4f660",
   "metadata": {},
   "outputs": [],
   "source": [
    "splitter = KFold(n_splits=3, shuffle=True, random_state=0)\n",
    "\n",
    "for f_i, (train, test) in enumerate(splitter.split(all_stations)):\n",
    "    train_stations = all_stations[train]\n",
    "    test_stations = all_stations[test]\n",
    "    data[data.station_id.isin(train_stations)].to_csv('../data/processed/fold_'+str(f_i)+'_train.csv.gz', index=None)\n",
    "    data[data.station_id.isin(test_stations)].to_csv('../data/processed/fold_'+str(f_i)+'_test.csv.gz', index=None)"
   ]
  },
  {
   "cell_type": "markdown",
   "id": "46cccf13",
   "metadata": {},
   "source": [
    "### Visualize"
   ]
  },
  {
   "cell_type": "code",
   "execution_count": 15,
   "id": "0324abf1",
   "metadata": {},
   "outputs": [
    {
     "data": {
      "image/png": "[encoded data removed]",
      "text/plain": [
       "<Figure size 432x288 with 1 Axes>"
      ]
     },
     "metadata": {
      "needs_background": "light"
     },
     "output_type": "display_data"
    },
    {
     "data": {
      "image/png": "[encoded data removed]",
      "text/plain": [
       "<Figure size 432x288 with 1 Axes>"
      ]
     },
     "metadata": {
      "needs_background": "light"
     },
     "output_type": "display_data"
    },
    {
     "data": {
      "image/png": "[encoded data removed]",
      "text/plain": [
       "<Figure size 432x288 with 1 Axes>"
      ]
     },
     "metadata": {
      "needs_background": "light"
     },
     "output_type": "display_data"
    }
   ],
   "source": [
    "for f_i, (train, test) in enumerate(splitter.split(all_stations)):\n",
    "    train_stations = all_stations[train]\n",
    "    test_stations = all_stations[test]\n",
    "    tmp_trn_df = data[data.station_id.isin(train_stations)].drop_duplicates('station_id')\n",
    "    tmp_tst_df = data[data.station_id.isin(test_stations)].drop_duplicates('station_id')\n",
    "    plt.figure()\n",
    "    plt.title('Fold'+str(f_i))\n",
    "    plt.scatter(tmp_trn_df['longitude'], tmp_trn_df['latitude'], label='train')\n",
    "    plt.scatter(tmp_tst_df['longitude'], tmp_tst_df['latitude'], label='test')\n",
    "    plt.legend(bbox_to_anchor=(1.2,1))"
   ]
  }
 ],
 "metadata": {
  "kernelspec": {
   "display_name": "Python 3",
   "language": "python",
   "name": "python3"
  },
  "language_info": {
   "codemirror_mode": {
    "name": "ipython",
    "version": 3
   },
   "file_extension": ".py",
   "mimetype": "text/x-python",
   "name": "python",
   "nbconvert_exporter": "python",
   "pygments_lexer": "ipython3",
   "version": "3.8.8"
  }
 },
 "nbformat": 4,
 "nbformat_minor": 5
}
