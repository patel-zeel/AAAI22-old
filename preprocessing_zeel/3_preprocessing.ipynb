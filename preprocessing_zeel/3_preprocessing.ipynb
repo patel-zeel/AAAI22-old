{
 "cells": [
  {
   "cell_type": "code",
<<<<<<< HEAD:preprocessing_zeel/3_preprocessing.ipynb
   "execution_count": 1,
=======
   "execution_count": 23,
>>>>>>> c3b6affc86e59b462d4d3884c1f83fd80b35e860:preprocessing/3_preprocessing.ipynb
   "id": "c344ff41",
   "metadata": {},
   "outputs": [],
   "source": [
    "import pandas as pd\n",
    "import numpy as np\n",
    "import matplotlib.pyplot as plt\n",
    "import warnings\n",
    "warnings.filterwarnings('ignore')"
   ]
  },
  {
   "cell_type": "code",
<<<<<<< HEAD:preprocessing_zeel/3_preprocessing.ipynb
   "execution_count": 2,
=======
   "execution_count": 41,
>>>>>>> c3b6affc86e59b462d4d3884c1f83fd80b35e860:preprocessing/3_preprocessing.ipynb
   "id": "5153331c",
   "metadata": {},
   "outputs": [
    {
     "data": {
      "text/html": [
       "<div>\n",
       "<style scoped>\n",
       "    .dataframe tbody tr th:only-of-type {\n",
       "        vertical-align: middle;\n",
       "    }\n",
       "\n",
       "    .dataframe tbody tr th {\n",
       "        vertical-align: top;\n",
       "    }\n",
       "\n",
       "    .dataframe thead th {\n",
       "        text-align: right;\n",
       "    }\n",
       "</style>\n",
       "<table border=\"1\" class=\"dataframe\">\n",
       "  <thead>\n",
       "    <tr style=\"text-align: right;\">\n",
       "      <th></th>\n",
       "      <th>time</th>\n",
       "      <th>station_id</th>\n",
       "      <th>PM25_Concentration</th>\n",
       "      <th>PM10_Concentration</th>\n",
       "      <th>NO2_Concentration</th>\n",
       "      <th>CO_Concentration</th>\n",
       "      <th>O3_Concentration</th>\n",
       "      <th>SO2_Concentration</th>\n",
       "    </tr>\n",
       "  </thead>\n",
       "  <tbody>\n",
       "    <tr>\n",
       "      <th>0</th>\n",
       "      <td>2014-05-01 00:00:00</td>\n",
       "      <td>1001</td>\n",
       "      <td>138.0</td>\n",
       "      <td>159.4</td>\n",
       "      <td>56.3</td>\n",
       "      <td>0.9</td>\n",
       "      <td>50.8</td>\n",
       "      <td>17.2</td>\n",
       "    </tr>\n",
       "    <tr>\n",
       "      <th>1</th>\n",
       "      <td>2014-05-01 00:00:00</td>\n",
       "      <td>1002</td>\n",
       "      <td>89.0</td>\n",
       "      <td>132.9</td>\n",
       "      <td>30.5</td>\n",
       "      <td>0.8</td>\n",
       "      <td>96.5</td>\n",
       "      <td>7.6</td>\n",
       "    </tr>\n",
       "  </tbody>\n",
       "</table>\n",
       "</div>"
      ],
      "text/plain": [
       "                  time  station_id  PM25_Concentration  PM10_Concentration  \\\n",
       "0  2014-05-01 00:00:00        1001               138.0               159.4   \n",
       "1  2014-05-01 00:00:00        1002                89.0               132.9   \n",
       "\n",
       "   NO2_Concentration  CO_Concentration  O3_Concentration  SO2_Concentration  \n",
       "0               56.3               0.9              50.8               17.2  \n",
       "1               30.5               0.8              96.5                7.6  "
      ]
     },
     "execution_count": 41,
     "metadata": {},
     "output_type": "execute_result"
    }
   ],
   "source": [
    "beijing_aq = pd.read_csv('beijing_aq_all_time_stamps.csv.gz')\n",
    "beijing_aq.head(2)"
   ]
  },
  {
   "cell_type": "code",
   "execution_count": 42,
   "id": "7c390b52",
   "metadata": {},
   "outputs": [
    {
     "data": {
      "text/html": [
       "<div>\n",
       "<style scoped>\n",
       "    .dataframe tbody tr th:only-of-type {\n",
       "        vertical-align: middle;\n",
       "    }\n",
       "\n",
       "    .dataframe tbody tr th {\n",
       "        vertical-align: top;\n",
       "    }\n",
       "\n",
       "    .dataframe thead th {\n",
       "        text-align: right;\n",
       "    }\n",
       "</style>\n",
       "<table border=\"1\" class=\"dataframe\">\n",
       "  <thead>\n",
       "    <tr style=\"text-align: right;\">\n",
       "      <th></th>\n",
       "      <th>time</th>\n",
       "      <th>station_id</th>\n",
       "      <th>weather</th>\n",
       "      <th>temperature</th>\n",
       "      <th>pressure</th>\n",
       "      <th>humidity</th>\n",
       "      <th>wind_speed</th>\n",
       "      <th>wind_direction</th>\n",
       "    </tr>\n",
       "  </thead>\n",
       "  <tbody>\n",
       "    <tr>\n",
       "      <th>0</th>\n",
       "      <td>2014-05-01 00:00:00</td>\n",
       "      <td>1001</td>\n",
       "      <td>0.0</td>\n",
       "      <td>20.0</td>\n",
       "      <td>1004.0</td>\n",
       "      <td>56.0</td>\n",
       "      <td>7.92</td>\n",
       "      <td>13.0</td>\n",
       "    </tr>\n",
       "    <tr>\n",
       "      <th>1</th>\n",
       "      <td>2014-05-01 00:00:00</td>\n",
       "      <td>1002</td>\n",
       "      <td>0.0</td>\n",
       "      <td>20.0</td>\n",
       "      <td>1004.0</td>\n",
       "      <td>56.0</td>\n",
       "      <td>7.92</td>\n",
       "      <td>13.0</td>\n",
       "    </tr>\n",
       "  </tbody>\n",
       "</table>\n",
       "</div>"
      ],
      "text/plain": [
       "                  time  station_id  weather  temperature  pressure  humidity  \\\n",
       "0  2014-05-01 00:00:00        1001      0.0         20.0    1004.0      56.0   \n",
       "1  2014-05-01 00:00:00        1002      0.0         20.0    1004.0      56.0   \n",
       "\n",
       "   wind_speed  wind_direction  \n",
       "0        7.92            13.0  \n",
       "1        7.92            13.0  "
      ]
     },
<<<<<<< HEAD:preprocessing_zeel/3_preprocessing.ipynb
     "execution_count": 2,
=======
     "execution_count": 42,
>>>>>>> c3b6affc86e59b462d4d3884c1f83fd80b35e860:preprocessing/3_preprocessing.ipynb
     "metadata": {},
     "output_type": "execute_result"
    }
   ],
   "source": [
    "beijing_met = pd.read_csv('beijing_met_all_time_stamps.csv.gz')\n",
    "beijing_met.head(2)"
   ]
  },
  {
   "cell_type": "markdown",
   "id": "0bea57f1",
   "metadata": {},
   "source": [
    "### Drop pressure because of too much missing data"
   ]
  },
  {
   "cell_type": "code",
<<<<<<< HEAD:preprocessing_zeel/3_preprocessing.ipynb
   "execution_count": 3,
=======
   "execution_count": 43,
>>>>>>> c3b6affc86e59b462d4d3884c1f83fd80b35e860:preprocessing/3_preprocessing.ipynb
   "id": "9cde1df4",
   "metadata": {},
   "outputs": [
    {
     "data": {
      "text/html": [
       "<div>\n",
       "<style scoped>\n",
       "    .dataframe tbody tr th:only-of-type {\n",
       "        vertical-align: middle;\n",
       "    }\n",
       "\n",
       "    .dataframe tbody tr th {\n",
       "        vertical-align: top;\n",
       "    }\n",
       "\n",
       "    .dataframe thead th {\n",
       "        text-align: right;\n",
       "    }\n",
       "</style>\n",
       "<table border=\"1\" class=\"dataframe\">\n",
       "  <thead>\n",
       "    <tr style=\"text-align: right;\">\n",
       "      <th></th>\n",
       "      <th>time</th>\n",
       "      <th>station_id</th>\n",
       "      <th>weather</th>\n",
       "      <th>temperature</th>\n",
       "      <th>humidity</th>\n",
       "      <th>wind_speed</th>\n",
       "      <th>wind_direction</th>\n",
       "    </tr>\n",
       "  </thead>\n",
       "  <tbody>\n",
       "    <tr>\n",
       "      <th>0</th>\n",
       "      <td>2014-05-01 00:00:00</td>\n",
       "      <td>1001</td>\n",
       "      <td>0.0</td>\n",
       "      <td>20.0</td>\n",
       "      <td>56.0</td>\n",
       "      <td>7.92</td>\n",
       "      <td>13.0</td>\n",
       "    </tr>\n",
       "    <tr>\n",
       "      <th>1</th>\n",
       "      <td>2014-05-01 00:00:00</td>\n",
       "      <td>1002</td>\n",
       "      <td>0.0</td>\n",
       "      <td>20.0</td>\n",
       "      <td>56.0</td>\n",
       "      <td>7.92</td>\n",
       "      <td>13.0</td>\n",
       "    </tr>\n",
       "  </tbody>\n",
       "</table>\n",
       "</div>"
      ],
      "text/plain": [
       "                  time  station_id  weather  temperature  humidity  \\\n",
       "0  2014-05-01 00:00:00        1001      0.0         20.0      56.0   \n",
       "1  2014-05-01 00:00:00        1002      0.0         20.0      56.0   \n",
       "\n",
       "   wind_speed  wind_direction  \n",
       "0        7.92            13.0  \n",
       "1        7.92            13.0  "
      ]
     },
     "execution_count": 43,
     "metadata": {},
     "output_type": "execute_result"
    }
   ],
   "source": [
    "beijing_met2 = beijing_met.drop(columns=['pressure'])\n",
    "beijing_met2.head(2)"
   ]
  },
  {
   "cell_type": "code",
   "execution_count": 44,
   "id": "cbe131f8",
   "metadata": {},
   "outputs": [
    {
     "data": {
      "text/html": [
       "<div>\n",
       "<style scoped>\n",
       "    .dataframe tbody tr th:only-of-type {\n",
       "        vertical-align: middle;\n",
       "    }\n",
       "\n",
       "    .dataframe tbody tr th {\n",
       "        vertical-align: top;\n",
       "    }\n",
       "\n",
       "    .dataframe thead th {\n",
       "        text-align: right;\n",
       "    }\n",
       "</style>\n",
       "<table border=\"1\" class=\"dataframe\">\n",
       "  <thead>\n",
       "    <tr style=\"text-align: right;\">\n",
       "      <th></th>\n",
       "      <th>time</th>\n",
       "      <th>station_id</th>\n",
       "      <th>weather</th>\n",
       "      <th>temperature</th>\n",
       "      <th>humidity</th>\n",
       "      <th>wind_speed</th>\n",
       "      <th>wind_direction</th>\n",
       "    </tr>\n",
       "  </thead>\n",
       "  <tbody>\n",
       "    <tr>\n",
       "      <th>0</th>\n",
       "      <td>2014-05-01 00:00:00</td>\n",
       "      <td>1001</td>\n",
       "      <td>0.0</td>\n",
       "      <td>20.0</td>\n",
       "      <td>56.0</td>\n",
       "      <td>7.92</td>\n",
       "      <td>13.0</td>\n",
       "    </tr>\n",
       "    <tr>\n",
       "      <th>1</th>\n",
       "      <td>2014-05-01 00:00:00</td>\n",
       "      <td>1002</td>\n",
       "      <td>0.0</td>\n",
       "      <td>20.0</td>\n",
       "      <td>56.0</td>\n",
       "      <td>7.92</td>\n",
       "      <td>13.0</td>\n",
       "    </tr>\n",
       "    <tr>\n",
       "      <th>2</th>\n",
       "      <td>2014-05-01 00:00:00</td>\n",
       "      <td>1003</td>\n",
       "      <td>0.0</td>\n",
       "      <td>20.0</td>\n",
       "      <td>56.0</td>\n",
       "      <td>7.92</td>\n",
       "      <td>13.0</td>\n",
       "    </tr>\n",
       "    <tr>\n",
       "      <th>3</th>\n",
       "      <td>2014-05-01 00:00:00</td>\n",
       "      <td>1004</td>\n",
       "      <td>0.0</td>\n",
       "      <td>20.0</td>\n",
       "      <td>56.0</td>\n",
       "      <td>7.92</td>\n",
       "      <td>13.0</td>\n",
       "    </tr>\n",
       "    <tr>\n",
       "      <th>4</th>\n",
       "      <td>2014-05-01 00:00:00</td>\n",
       "      <td>1005</td>\n",
       "      <td>0.0</td>\n",
       "      <td>19.0</td>\n",
       "      <td>61.0</td>\n",
       "      <td>11.16</td>\n",
       "      <td>13.0</td>\n",
       "    </tr>\n",
       "    <tr>\n",
       "      <th>...</th>\n",
       "      <td>...</td>\n",
       "      <td>...</td>\n",
       "      <td>...</td>\n",
       "      <td>...</td>\n",
       "      <td>...</td>\n",
       "      <td>...</td>\n",
       "      <td>...</td>\n",
       "    </tr>\n",
       "    <tr>\n",
       "      <th>315355</th>\n",
       "      <td>2015-04-30 23:00:00</td>\n",
       "      <td>1032</td>\n",
       "      <td>1.0</td>\n",
       "      <td>17.9</td>\n",
       "      <td>80.0</td>\n",
       "      <td>0.40</td>\n",
       "      <td>14.0</td>\n",
       "    </tr>\n",
       "    <tr>\n",
       "      <th>315356</th>\n",
       "      <td>2015-04-30 23:00:00</td>\n",
       "      <td>1033</td>\n",
       "      <td>1.0</td>\n",
       "      <td>19.5</td>\n",
       "      <td>72.0</td>\n",
       "      <td>2.20</td>\n",
       "      <td>13.0</td>\n",
       "    </tr>\n",
       "    <tr>\n",
       "      <th>315357</th>\n",
       "      <td>2015-04-30 23:00:00</td>\n",
       "      <td>1034</td>\n",
       "      <td>0.0</td>\n",
       "      <td>21.0</td>\n",
       "      <td>61.0</td>\n",
       "      <td>8.50</td>\n",
       "      <td>3.0</td>\n",
       "    </tr>\n",
       "    <tr>\n",
       "      <th>315358</th>\n",
       "      <td>2015-04-30 23:00:00</td>\n",
       "      <td>1035</td>\n",
       "      <td>1.0</td>\n",
       "      <td>20.3</td>\n",
       "      <td>69.0</td>\n",
       "      <td>1.00</td>\n",
       "      <td>13.0</td>\n",
       "    </tr>\n",
       "    <tr>\n",
       "      <th>315359</th>\n",
       "      <td>2015-04-30 23:00:00</td>\n",
       "      <td>1036</td>\n",
       "      <td>1.0</td>\n",
       "      <td>19.8</td>\n",
       "      <td>72.0</td>\n",
       "      <td>2.60</td>\n",
       "      <td>23.0</td>\n",
       "    </tr>\n",
       "  </tbody>\n",
       "</table>\n",
       "<p>315360 rows × 7 columns</p>\n",
       "</div>"
      ],
      "text/plain": [
       "                       time  station_id  weather  temperature  humidity  \\\n",
       "0       2014-05-01 00:00:00        1001      0.0         20.0      56.0   \n",
       "1       2014-05-01 00:00:00        1002      0.0         20.0      56.0   \n",
       "2       2014-05-01 00:00:00        1003      0.0         20.0      56.0   \n",
       "3       2014-05-01 00:00:00        1004      0.0         20.0      56.0   \n",
       "4       2014-05-01 00:00:00        1005      0.0         19.0      61.0   \n",
       "...                     ...         ...      ...          ...       ...   \n",
       "315355  2015-04-30 23:00:00        1032      1.0         17.9      80.0   \n",
       "315356  2015-04-30 23:00:00        1033      1.0         19.5      72.0   \n",
       "315357  2015-04-30 23:00:00        1034      0.0         21.0      61.0   \n",
       "315358  2015-04-30 23:00:00        1035      1.0         20.3      69.0   \n",
       "315359  2015-04-30 23:00:00        1036      1.0         19.8      72.0   \n",
       "\n",
       "        wind_speed  wind_direction  \n",
       "0             7.92            13.0  \n",
       "1             7.92            13.0  \n",
       "2             7.92            13.0  \n",
       "3             7.92            13.0  \n",
       "4            11.16            13.0  \n",
       "...            ...             ...  \n",
       "315355        0.40            14.0  \n",
       "315356        2.20            13.0  \n",
       "315357        8.50             3.0  \n",
       "315358        1.00            13.0  \n",
       "315359        2.60            23.0  \n",
       "\n",
       "[315360 rows x 7 columns]"
      ]
     },
<<<<<<< HEAD:preprocessing_zeel/3_preprocessing.ipynb
     "execution_count": 3,
=======
     "execution_count": 44,
>>>>>>> c3b6affc86e59b462d4d3884c1f83fd80b35e860:preprocessing/3_preprocessing.ipynb
     "metadata": {},
     "output_type": "execute_result"
    }
   ],
   "source": [
    "beijing_met2"
   ]
  },
  {
   "cell_type": "markdown",
   "id": "dbc63b56",
   "metadata": {},
   "source": [
    "### Drop five stations with highest amount of missing data"
   ]
  },
  {
   "cell_type": "code",
<<<<<<< HEAD:preprocessing_zeel/3_preprocessing.ipynb
   "execution_count": 4,
=======
   "execution_count": 45,
>>>>>>> c3b6affc86e59b462d4d3884c1f83fd80b35e860:preprocessing/3_preprocessing.ipynb
   "id": "4dcc5126",
   "metadata": {},
   "outputs": [
    {
     "name": "stdout",
     "output_type": "stream",
     "text": [
      "1001 0.7998858447488585\n",
      "1002 0.7998858447488585\n",
      "1003 0.8480593607305936\n",
      "1004 0.8469178082191781\n",
      "1005 0.8614155251141552\n",
      "1006 0.7998858447488585\n",
      "1007 0.8204337899543379\n",
      "1008 0.7998858447488585\n",
      "1009 0.34178082191780823\n",
      "1010 0.8469178082191781\n",
      "1011 0.8469178082191781\n",
      "1012 0.8204337899543379\n",
      "1013 0.34178082191780823\n",
      "1014 0.8204337899543379\n",
      "1015 0.34178082191780823\n",
      "1016 0.8469178082191781\n",
      "1017 0.8634703196347032\n",
      "1018 0.8634703196347032\n",
      "1019 0.8410958904109589\n",
      "1020 0.34178082191780823\n",
      "1021 0.34178082191780823\n",
      "1022 0.8204337899543379\n",
      "1023 0.8389269406392694\n",
      "1024 0.8430365296803652\n",
      "1025 0.8638127853881279\n",
      "1026 0.8598173515981735\n",
      "1027 0.8289954337899543\n",
      "1028 0.8589041095890411\n",
      "1029 0.8539954337899544\n",
      "1030 0.8430365296803652\n",
      "1031 0.8539954337899544\n",
      "1032 0.8589041095890411\n",
      "1033 0.8598173515981735\n",
      "1034 0.8410958904109589\n",
      "1035 0.8634703196347032\n",
      "1036 0.8614155251141552\n"
     ]
    }
   ],
   "source": [
    "for station in beijing_met2.station_id.unique():\n",
    "    tmp_df = beijing_met2[beijing_met2.station_id==station]\n",
    "    print(station, tmp_df['temperature'].dropna().shape[0]/tmp_df['temperature'].shape[0])"
   ]
  },
  {
   "cell_type": "markdown",
   "id": "52498787",
   "metadata": {},
   "source": [
    "#### Missing data Station IDs: 1009, 1013, 1015, 1020, 1021"
   ]
  },
  {
   "cell_type": "code",
<<<<<<< HEAD:preprocessing_zeel/3_preprocessing.ipynb
   "execution_count": 5,
=======
   "execution_count": 47,
>>>>>>> c3b6affc86e59b462d4d3884c1f83fd80b35e860:preprocessing/3_preprocessing.ipynb
   "id": "76aeb345",
   "metadata": {},
   "outputs": [
    {
     "data": {
      "text/plain": [
       "((36,), (31,))"
      ]
     },
<<<<<<< HEAD:preprocessing_zeel/3_preprocessing.ipynb
     "execution_count": 5,
=======
     "execution_count": 47,
>>>>>>> c3b6affc86e59b462d4d3884c1f83fd80b35e860:preprocessing/3_preprocessing.ipynb
     "metadata": {},
     "output_type": "execute_result"
    }
   ],
   "source": [
    "beijing_met3 = beijing_met2[~beijing_met2.station_id.isin([1009, 1013, 1015, 1020, 1021])]\n",
    "beijing_aq2 = beijing_aq[~beijing_aq.station_id.isin([1009, 1013, 1015, 1020, 1021])]\n",
    "\n",
    "beijing_met2.station_id.unique().shape, beijing_met3.station_id.unique().shape"
   ]
  },
  {
   "cell_type": "code",
<<<<<<< HEAD:preprocessing_zeel/3_preprocessing.ipynb
   "execution_count": 6,
=======
   "execution_count": 48,
>>>>>>> c3b6affc86e59b462d4d3884c1f83fd80b35e860:preprocessing/3_preprocessing.ipynb
   "id": "ed71e3fd",
   "metadata": {},
   "outputs": [],
   "source": [
    "beijing_met3.to_csv('beijing_met_preprocessed.csv.gz', index=None)\n",
    "beijing_aq2.to_csv('beijing_aq_preprocessed.csv.gz', index=None)"
   ]
  }
 ],
 "metadata": {
  "kernelspec": {
   "display_name": "Python 3",
   "language": "python",
   "name": "python3"
  },
  "language_info": {
   "codemirror_mode": {
    "name": "ipython",
    "version": 3
   },
   "file_extension": ".py",
   "mimetype": "text/x-python",
   "name": "python",
   "nbconvert_exporter": "python",
   "pygments_lexer": "ipython3",
   "version": "3.8.10"
  }
 },
 "nbformat": 4,
 "nbformat_minor": 5
}
