{
 "cells": [
  {
   "cell_type": "code",
   "execution_count": 4,
   "id": "09f7fafe",
   "metadata": {},
   "outputs": [],
   "source": [
    "import pandas as pd\n",
    "import numpy as np \n",
    "from datetime import datetime"
   ]
  },
  {
   "cell_type": "code",
   "execution_count": 6,
   "id": "d7dab96d",
   "metadata": {},
   "outputs": [],
   "source": [
    "city_id = 1\n",
    "district_data = pd.read_csv(\"district.csv\")\n",
    "aq_station_data = pd.read_csv(\"station.csv\")\n",
    "aq_data = pd.read_csv(\"airquality.csv\")   #READ ONLY ONE COLUMN HERE \n",
    "met_data = pd.read_csv(\"meteorology.csv\")\n",
    "\n",
    "district_ids = np.array(district_data['district_id'])[np.where(np.array(district_data['city_id'])==1)]\n",
    "district_rows = np.array([i for i in range(len(aq_station_data)) if np.array(aq_station_data['district_id'])[i] in district_ids])\n",
    "aq_station_ids,aq_dis_ids = np.array(aq_station_data['station_id'])[district_rows],np.array(aq_station_data['district_id'])[district_rows]"
   ]
  },
  {
   "cell_type": "code",
   "execution_count": 34,
   "id": "fc7ddf9c",
   "metadata": {},
   "outputs": [
    {
     "data": {
      "text/plain": [
       "Index(['id', 'time', 'weather', 'temperature', 'pressure', 'humidity',\n",
       "       'wind_speed', 'wind_direction'],\n",
       "      dtype='object')"
      ]
     },
     "execution_count": 34,
     "metadata": {},
     "output_type": "execute_result"
    }
   ],
   "source": [
    "met_data.columns"
   ]
  },
  {
   "cell_type": "code",
   "execution_count": 42,
   "id": "a1413e31",
   "metadata": {},
   "outputs": [],
   "source": [
    "from sklearn.preprocessing import StandardScaler\n",
    "from scipy.interpolate import CubicSpline\n",
    "from sklearn.metrics import mean_squared_error\n",
    "from sklearn.model_selection import ShuffleSplit\n",
    "\n",
    "stand= StandardScaler()"
   ]
  },
  {
   "cell_type": "code",
   "execution_count": null,
   "id": "975457ca",
   "metadata": {},
   "outputs": [],
   "source": [
    "for aqid,disid in zip(aq_station_ids,aq_dis_ids):\n",
    "\n",
    "    met_rows = np.where(np.isin(met_data['id'],disid))[0]\n",
    "    met_station= met_data.iloc[met_rows,:]\n",
    "    met_station = met_station.drop(['pressure'],axis=1)\n",
    "    \n",
    "    \n",
    "    for cols in ['weather','temperature','humidity','wind_speed']:\n",
    "        csloss = []\n",
    "        without_NA = met_station.dropna(subset=[cols]).iloc[:,[met_station.columns.get_loc('time'),met_station.columns.get_loc(cols)]].reset_index(drop=True)\n",
    "        dates = pd.to_datetime([datetime.fromisoformat(without_NA.iloc[i,without_NA.columns.get_loc('time')]) for i in range(len(without_NA))])\n",
    "        time_differences = ((dates - dates[0]).total_seconds() // 3600)\n",
    "        indices = ShuffleSplit(n_splits=5, test_size=.2, random_state=0).split(time_differences)\n",
    "        for i in indices:\n",
    "            train_indices = list(i[0])\n",
    "            test_indices = list(i[1])\n",
    "            xtrain = time_differences[train_indices].sort_values()\n",
    "  \n",
    "            \n",
    "            Fit= stand.fit(np.array(without_NA.iloc[train_indices,without_NA.columns.get_loc(cols)])[xtrain.argsort()].reshape(-1,1))\n",
    "            ytrain = Fit.transform(np.array(without_NA.iloc[train_indices,without_NA.columns.get_loc(cols)]).reshape(-1,1))\n",
    "            \n",
    "            xtest = time_differences[test_indices]\n",
    "            ytest = Fit.transform(np.array(without_NA.iloc[test_indices,without_NA.columns.get_loc(cols)]).reshape(-1,1))\n",
    "            \n",
    "            cs = CubicSpline(xtrain, ytrain)\n",
    "            y_pred = cs(xtest)\n",
    "            csloss.append(mean_squared_error(ytest,y_pred))\n",
    "        \n",
    "            ## similarly interpolate using other methods.\n",
    "            \n",
    "        avg_cs_loss = np.mean(np.array(csloss))\n",
    "        ## select method with least avg loss for that station, column\n",
    "            "
   ]
  },
  {
   "cell_type": "code",
   "execution_count": null,
   "id": "79fd11fa",
   "metadata": {},
   "outputs": [],
   "source": []
  }
 ],
 "metadata": {
  "kernelspec": {
   "display_name": "Python 3",
   "language": "python",
   "name": "python3"
  },
  "language_info": {
   "codemirror_mode": {
    "name": "ipython",
    "version": 3
   },
   "file_extension": ".py",
   "mimetype": "text/x-python",
   "name": "python",
   "nbconvert_exporter": "python",
   "pygments_lexer": "ipython3",
   "version": "3.8.10"
  }
 },
 "nbformat": 4,
 "nbformat_minor": 5
}
