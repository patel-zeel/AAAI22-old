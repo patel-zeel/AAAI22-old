{
 "cells": [
  {
   "cell_type": "code",
   "execution_count": 1,
   "id": "83cb3ac2",
   "metadata": {},
   "outputs": [],
   "source": [
    "import pandas as pd\n",
    "import numpy as np\n",
    "import sys\n",
    "import matplotlib.pyplot as plt\n",
    "from sklearn.model_selection import KFold\n",
    "from sklearn.metrics import mean_squared_error\n",
    "import warnings\n",
    "from IPython.display import clear_output\n",
    "from multiprocessing import Pool\n",
    "from time import time\n",
    "\n",
    "warnings.filterwarnings('ignore')\n",
    "\n",
    "from model import ADAIN\n",
    "import tensorflow as tf\n",
    "gpus = tf.config.experimental.list_physical_devices('GPU')\n",
    "for gpu in gpus:\n",
    "    tf.config.experimental.set_memory_growth(gpu, True)"
   ]
  },
  {
   "cell_type": "markdown",
   "id": "efce56f1",
   "metadata": {},
   "source": [
    "### Fold 0"
   ]
  },
  {
   "cell_type": "code",
   "execution_count": 2,
   "id": "ca91f889",
   "metadata": {},
   "outputs": [],
   "source": [
    "fold = str(0)\n",
    "station_metaq = np.load('../data/adain/fold_'+fold+'_station_metaq_data_test.npz')['arr_0']\n",
    "station_dist = np.load('../data/adain/fold_'+fold+'_station_dist_data_test.npz')['arr_0']\n",
    "\n",
    "local_met = np.load('../data/adain/fold_'+fold+'_local_met_data_test.npz')['arr_0']\n",
    "local_aq0 = np.load('../data/adain/fold_'+fold+'_local_aq_data_test.npz')['arr_0']"
   ]
  },
  {
   "cell_type": "code",
   "execution_count": 3,
   "id": "4dffaa6a",
   "metadata": {},
   "outputs": [
    {
     "data": {
      "text/plain": [
       "48.19880158587635"
      ]
     },
     "execution_count": 3,
     "metadata": {},
     "output_type": "execute_result"
    }
   ],
   "source": [
    "model = tf.keras.models.load_model('../results/adain/trained_'+fold+'.h5')\n",
    "\n",
    "preds0 = model.predict([local_met, station_dist, station_metaq])\n",
    "\n",
    "mean_squared_error(local_aq0, preds0, squared=False)"
   ]
  },
  {
   "cell_type": "markdown",
   "id": "73d9e453",
   "metadata": {},
   "source": [
    "### Fold 1"
   ]
  },
  {
   "cell_type": "code",
   "execution_count": 4,
   "id": "d73806ef",
   "metadata": {},
   "outputs": [],
   "source": [
    "fold = str(1)\n",
    "station_metaq = np.load('../data/adain/fold_'+fold+'_station_metaq_data_test.npz')['arr_0']\n",
    "station_dist = np.load('../data/adain/fold_'+fold+'_station_dist_data_test.npz')['arr_0']\n",
    "\n",
    "local_met = np.load('../data/adain/fold_'+fold+'_local_met_data_test.npz')['arr_0']\n",
    "local_aq1 = np.load('../data/adain/fold_'+fold+'_local_aq_data_test.npz')['arr_0']"
   ]
  },
  {
   "cell_type": "code",
   "execution_count": 5,
   "id": "8525f7f5",
   "metadata": {},
   "outputs": [
    {
     "data": {
      "text/plain": [
       "74.7434566371194"
      ]
     },
     "execution_count": 5,
     "metadata": {},
     "output_type": "execute_result"
    }
   ],
   "source": [
    "model = tf.keras.models.load_model('../results/adain/trained_'+fold+'.h5')\n",
    "\n",
    "preds1 = model.predict([local_met, station_dist, station_metaq])\n",
    "\n",
    "mean_squared_error(local_aq1, preds1, squared=False)"
   ]
  },
  {
   "cell_type": "code",
   "execution_count": 13,
   "id": "ed8b73c0",
   "metadata": {},
   "outputs": [
    {
     "name": "stdout",
     "output_type": "stream",
     "text": [
      "184.0645802479568\n",
      "34.23895254219421\n",
      "34.25423183954678\n",
      "26.464415648171585\n",
      "46.354029707548754\n",
      "65.88805611818493\n",
      "74.71679321836743\n",
      "56.28112023651622\n",
      "47.386119059531495\n",
      "38.138036924974735\n"
     ]
    }
   ],
   "source": [
    "d1 = np.array(np.split(local_aq1, 10))\n",
    "d2 = np.array(np.split(preds1, 10))\n",
    "\n",
    "for i in range(10):\n",
    "    print(mean_squared_error(d1[i], d2[i], squared=False))"
   ]
  },
  {
   "cell_type": "markdown",
   "id": "9a5bb051",
   "metadata": {},
   "source": [
    "### Fold 2"
   ]
  },
  {
   "cell_type": "code",
   "execution_count": 6,
   "id": "17922a9b",
   "metadata": {},
   "outputs": [],
   "source": [
    "fold = str(2)\n",
    "station_metaq = np.load('../data/adain/fold_'+fold+'_station_metaq_data_test.npz')['arr_0']\n",
    "station_dist = np.load('../data/adain/fold_'+fold+'_station_dist_data_test.npz')['arr_0']\n",
    "\n",
    "local_met = np.load('../data/adain/fold_'+fold+'_local_met_data_test.npz')['arr_0']\n",
    "local_aq2 = np.load('../data/adain/fold_'+fold+'_local_aq_data_test.npz')['arr_0']"
   ]
  },
  {
   "cell_type": "code",
   "execution_count": 7,
   "id": "2c060d2b",
   "metadata": {},
   "outputs": [
    {
     "data": {
      "text/plain": [
       "53.72870631112797"
      ]
     },
     "execution_count": 7,
     "metadata": {},
     "output_type": "execute_result"
    }
   ],
   "source": [
    "model = tf.keras.models.load_model('../results/adain/trained_'+fold+'.h5')\n",
    "\n",
    "preds2 = model.predict([local_met, station_dist, station_metaq])\n",
    "\n",
    "mean_squared_error(local_aq2, preds2, squared=False)"
   ]
  }
 ],
 "metadata": {
  "kernelspec": {
   "display_name": "Python 3",
   "language": "python",
   "name": "python3"
  },
  "language_info": {
   "codemirror_mode": {
    "name": "ipython",
    "version": 3
   },
   "file_extension": ".py",
   "mimetype": "text/x-python",
   "name": "python",
   "nbconvert_exporter": "python",
   "pygments_lexer": "ipython3",
   "version": "3.8.8"
  }
 },
 "nbformat": 4,
 "nbformat_minor": 5
}
